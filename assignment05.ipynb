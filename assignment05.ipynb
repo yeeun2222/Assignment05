{
 "cells": [
  {
   "cell_type": "markdown",
   "id": "988b3403",
   "metadata": {},
   "source": [
    "## Q1 - Heap을 사용한 생일 정렬\n",
    "\n",
    "생일 데이터를 교재 코드(heap.py)를 이용해 힙으로 저장하고, 생일이 느린 순서로 \n",
    "10명의 친구를 출력하는 코드를 작성한다. 실행 결과가 셀에 나타나야 한다. "
   ]
  },
  {
   "cell_type": "markdown",
   "id": "22ee3990",
   "metadata": {},
   "source": [
    "### 코드"
   ]
  },
  {
   "cell_type": "code",
   "execution_count": 33,
   "id": "97d012ed",
   "metadata": {},
   "outputs": [
    {
     "name": "stdout",
     "output_type": "stream",
     "text": [
      "생일이 늦은 친구 10명:\n",
      "홍서연 - 20241282\n",
      "신수민 - 20051230\n",
      "이서영 - 20051225\n",
      "강민주 - 20051214\n",
      "김민경 - 20051202\n",
      "이서영 - 20051112\n",
      "배시은 - 20051102\n",
      "김여원 - 20051031\n",
      "이서진 - 20051028\n",
      "서홍빈 - 20051024\n"
     ]
    }
   ],
   "source": [
    "import csv\n",
    "from heap import Heap\n",
    "\n",
    "birth_heap = Heap()\n",
    "\n",
    "with open('DS_Birthdaydata.csv', 'r', encoding='cp949') as file:\n",
    "    reader = csv.DictReader(file)\n",
    "    for row in reader:\n",
    "        name = row['이름']\n",
    "        birthday = row['생년월일'].replace('-', '').replace('.', '') \n",
    "        if birthday.isdigit():\n",
    "            birth_heap.insert((int(birthday), name))\n",
    "\n",
    "print(\"생일이 늦은 친구 10명:\")\n",
    "for _ in range(10):\n",
    "    if not birth_heap.isEmpty():\n",
    "        birthday, name = birth_heap.deleteMax()\n",
    "        print(f\"{name} - {str(birthday)}\")"
   ]
  },
  {
   "cell_type": "markdown",
   "id": "6ee0a719",
   "metadata": {},
   "source": [
    "### 실행결과\n"
   ]
  },
  {
   "cell_type": "markdown",
   "id": "d7eea262",
   "metadata": {},
   "source": [
    "생일이 늦은 친구 10명:  \n",
    "홍서연 - 20241282  \n",
    "신수민 - 20051230  \n",
    "이서영 - 20051225  \n",
    "강민주 - 20051214  \n",
    "김민경 - 20051202  \n",
    "이서영 - 20051112  \n",
    "배시윤 - 20051102  \n",
    "김여원 - 20051031  \n",
    "이서진 - 20051028  \n",
    "서홍빈 - 20051024  "
   ]
  },
  {
   "cell_type": "markdown",
   "id": "c6e08a45",
   "metadata": {},
   "source": [
    "## Q2 - Circular Doubly Linked List를 사용한 조원 생일 필터링\n",
    "\n",
    "생일 데이터를 교재 코드(circularDoublyLinkedList.py)를 이용해 리스트로 \n",
    "저장하고, 같은 조(지난 과제 지정 조원 참조)의 친구들만 이름과 생년월일을 \n",
    "출력하는 코드를 작성한다. 실행 결과가 셀에 나타나야 한다. "
   ]
  },
  {
   "cell_type": "markdown",
   "id": "f32e4a5e",
   "metadata": {},
   "source": [
    "### 코드"
   ]
  },
  {
   "cell_type": "code",
   "execution_count": 34,
   "id": "33d2cbb6",
   "metadata": {},
   "outputs": [
    {
     "name": "stdout",
     "output_type": "stream",
     "text": [
      "같은 조 친구들의 생일 정보:\n",
      "권보은 - 20041004\n",
      "김승연 - 20030124\n",
      "김주원 - 20030110\n",
      "서홍빈 - 20051024\n",
      "은유빈 - 20040503\n",
      "이서영 - 20051225\n",
      "이아현 - 20010904\n",
      "이예은 - 20030109\n",
      "임성민 - 20021213\n",
      "정예은 - \n"
     ]
    }
   ],
   "source": [
    "import csv\n",
    "from circularDoublyLinkedList import CircularDoublyLinkedList\n",
    "\n",
    "my_group = {\n",
    "    (\"권보은\", \"******14\"),\n",
    "    (\"김승연\", \"******30\"),\n",
    "    (\"이서영\", \"******42\"),\n",
    "    (\"이아현\", \"******24\"),\n",
    "    (\"임성민\", \"******08\"),\n",
    "    (\"은유빈\", \"******38\"),\n",
    "    (\"이예은\", \"******81\"),\n",
    "    (\"정예은\", \"******28\"),\n",
    "    (\"김주원\", \"******43\"),\n",
    "    (\"서홍빈\", \"******64\")\n",
    "}\n",
    "\n",
    "birthday_list = CircularDoublyLinkedList()\n",
    "\n",
    "with open('DS_Birthdaydata.csv', 'r', encoding='cp949') as file:\n",
    "    reader = csv.DictReader(file)\n",
    "    for row in reader:\n",
    "        name = row['이름']\n",
    "        student_id = row['학번']\n",
    "        birthday = row['생년월일']\n",
    "        birthday_list.append((name, student_id, birthday))\n",
    "\n",
    "print(\"같은 조 친구들의 생일 정보:\")\n",
    "for i in range(birthday_list.size()):\n",
    "    name, student_id, birthday = birthday_list.get(i)\n",
    "    if (name, student_id) in my_group:\n",
    "        print(f\"{name} - {birthday}\")\n",
    "\n"
   ]
  },
  {
   "cell_type": "markdown",
   "id": "a82d21f0",
   "metadata": {},
   "source": [
    "### 실행결과"
   ]
  },
  {
   "cell_type": "markdown",
   "id": "00e5b025",
   "metadata": {},
   "source": [
    "같은 조 친구들의 생일 정보:  \n",
    "권보은 - 20041004  \n",
    "김승연 - 20030124  \n",
    "김주원 - 20030110  \n",
    "서홍빈 - 20051024  \n",
    "은유빈 - 20040503  \n",
    "이서영 - 20051225  \n",
    "이아현 - 20010904  \n",
    "이예은 - 20030109  \n",
    "임성민 - 20021213  \n",
    "정예은 -  "
   ]
  },
  {
   "cell_type": "markdown",
   "id": "2e888538",
   "metadata": {},
   "source": [
    "## Q3 - 우선순위 큐 연습문제 풀이\n",
    "\n",
    "교재 8장 우선 순위 큐 연습문제를 모두 푼다.  "
   ]
  },
  {
   "cell_type": "markdown",
   "id": "4298d6ee",
   "metadata": {},
   "source": [
    "## 문제 1"
   ]
  },
  {
   "cell_type": "markdown",
   "id": "bb5d0a0f",
   "metadata": {},
   "source": [
    "답: 아니요\n",
    "\n",
    "이유? 최대 힙에서는 항상 루트가 가장 큰 원소 이므로, 트리의 깊은 곳에 있는 노드는 루트보다 작거나 같다."
   ]
  },
  {
   "cell_type": "markdown",
   "id": "ff9327da",
   "metadata": {},
   "source": [
    "## 문제 2"
   ]
  },
  {
   "cell_type": "markdown",
   "id": "c6d8fffa",
   "metadata": {},
   "source": [
    "답 : A[n-1]은 항상 작은 값을 갖지 않는다.\n",
    "\n",
    "이유? 'A[0]'은 항상 최대 힙에서 가장 큰 값을 갖는 반면, 'A[n-1]'은 단지 배열의 마지막에 있을 뿐 가장 작은 값을 갖는다고 보장 할 수 없다."
   ]
  },
  {
   "cell_type": "markdown",
   "id": "17f786a8",
   "metadata": {},
   "source": [
    "## 문제3"
   ]
  },
  {
   "cell_type": "markdown",
   "id": "d9e5746a",
   "metadata": {},
   "source": [
    "답: n/2개\n",
    "\n",
    "이유? buildHeap()은 배열의 중간 인덱스부터 루트까지 스며내리기를 수행한다. 따라서 절반 정도의 원소는 스며내리기를 하지 않는다."
   ]
  },
  {
   "cell_type": "markdown",
   "id": "d1907125",
   "metadata": {},
   "source": [
    "## 문제4"
   ]
  },
  {
   "cell_type": "markdown",
   "id": "f7cd9ffe",
   "metadata": {},
   "source": [
    "답:O(n)\n",
    "\n",
    "이유? 각 노드의 스며내리기 연산은 깊이에 따라 짧아지기 때문에 총 시간은 O(n)이 된다."
   ]
  },
  {
   "cell_type": "markdown",
   "id": "a84f6b7a",
   "metadata": {},
   "source": [
    "## 문제5"
   ]
  },
  {
   "cell_type": "markdown",
   "id": "d1b8a415",
   "metadata": {},
   "source": [
    "답 : 아니다\n",
    "\n",
    "이유? 힙에서 삭제 연산은 루트 노드를 제거한 뒤 마지막 원소를 루트로 옮기고, 다시 스며내리기를 수행해야하기 때문에 단순히 마지막 원소를 제거하는 것은 힙 삭제가 아니다."
   ]
  },
  {
   "cell_type": "markdown",
   "id": "7721cce6",
   "metadata": {},
   "source": [
    "## 문제6"
   ]
  },
  {
   "cell_type": "markdown",
   "id": "e3f301d3",
   "metadata": {},
   "source": [
    "답: 아래에서 위로 진행하는 것이 더 효율적이다.\n",
    "\n",
    "이유? 아래에서 위로 스며내리기를 하면 자식들이 먼저 정리되어 상위 노드를 처리할 때 연산이 줄어든다. 반대로 위에서 아래로 하면 정렬되지 않은 자식을 여러번 정리해야 해서 비효율적이다."
   ]
  },
  {
   "cell_type": "markdown",
   "id": "612ad641",
   "metadata": {},
   "source": [
    "## 문제7"
   ]
  },
  {
   "cell_type": "markdown",
   "id": "282104cf",
   "metadata": {},
   "source": [
    "답 : 스며오르기를 수행한다. 시간 복잡도는 O(log n)\n",
    "\n",
    "이유? 값이 증가한 노드는 부모와 비교하여 더 크면 자리를 바꾸기를 한다. 이 과정을 루트까지 반복하면 힙 조건을 유지할 수 있고, 높이는 log n이므로 시간 복잡도는 O(log n)이 된다."
   ]
  },
  {
   "cell_type": "markdown",
   "id": "f495726d",
   "metadata": {},
   "source": [
    "## Q4 - LeetCode 703. Kth Largest Element in a Stream\n",
    "\n",
    "`KthLargest` 클래스를 정의하고, 스트림에 요소가 들어올 때마다 k번째로 큰 수를 리턴하는 구조를 구현합니다."
   ]
  },
  {
   "cell_type": "code",
   "execution_count": 35,
   "id": "afcca25d",
   "metadata": {},
   "outputs": [],
   "source": [
    "import heapq\n",
    "\n",
    "class KthLargest:\n",
    "    def __init__(self, k, nums):  \n",
    "        self.k = k\n",
    "        self.minheap = nums\n",
    "        heapq.heapify(self.minheap)\n",
    "        while len(self.minheap) > k:\n",
    "            heapq.heappop(self.minheap)\n",
    "\n",
    "    def add(self, val):\n",
    "        heapq.heappush(self.minheap, val)\n",
    "        if len(self.minheap) > self.k:\n",
    "            heapq.heappop(self.minheap)\n",
    "        return self.minheap[0]\n"
   ]
  }
 ],
 "metadata": {
  "kernelspec": {
   "display_name": "Python 3",
   "language": "python",
   "name": "python3"
  },
  "language_info": {
   "codemirror_mode": {
    "name": "ipython",
    "version": 3
   },
   "file_extension": ".py",
   "mimetype": "text/x-python",
   "name": "python",
   "nbconvert_exporter": "python",
   "pygments_lexer": "ipython3",
   "version": "3.9.12"
  }
 },
 "nbformat": 4,
 "nbformat_minor": 5
}
